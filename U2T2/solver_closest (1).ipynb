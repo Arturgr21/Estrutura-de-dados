{
  "nbformat": 4,
  "nbformat_minor": 0,
  "metadata": {
    "colab": {
      "provenance": []
    },
    "kernelspec": {
      "name": "python3",
      "display_name": "Python 3"
    },
    "language_info": {
      "name": "python"
    }
  },
  "cells": [
    {
      "cell_type": "markdown",
      "source": [
        "# Find Closest Value in BST"
      ],
      "metadata": {
        "id": "tSxAN8oFsbeH"
      }
    },
    {
      "cell_type": "markdown",
      "source": [
        "Write a function that takes in a **Binary Search Tree (BST)** and a **target integer** value and returns the **closest value** to that target value contained in the BST.\n",
        "\n",
        "You can assume that there will only be one closest value.\n",
        "\n",
        "Each **BST** node has an integer **value**, a **left** child node, and a **right** child node. A node is said to be a valid **BST** node if and only if it satisfies the BST property:\n",
        "\n",
        "- its **value** is strictly greater than the values of every onde to its left;\n",
        "- its **value** is less than or equal to the values of every node to is rights;\n",
        "- its children nodes are either valid **BST** nodes themselves or **None**/**null**."
      ],
      "metadata": {
        "id": "SmWY5ATosljj"
      }
    },
    {
      "cell_type": "markdown",
      "source": [
        "Sample Input\n",
        "\n",
        "```python\n",
        " tree =   10\n",
        "       /     \\\n",
        "      5       15\n",
        "    /   \\   /   \\\n",
        "   2    5  13    22\n",
        "  /          \\\n",
        " 1           14\n",
        "\n",
        " target = 12\n",
        "```\n",
        "\n",
        "Sample output\n",
        "\n",
        "```python\n",
        "13\n",
        "```"
      ],
      "metadata": {
        "id": "LGHsyUECs0WU"
      }
    },
    {
      "cell_type": "markdown",
      "source": [
        "**Hint 1**\n",
        "\n",
        "Try traversing the BST node by node, all the while keeping track of the node with the value closest to the target value. Calculating the absolute value of the difference between a node's value and the target value should allow you to check if that node is closer than the current closest one."
      ],
      "metadata": {
        "id": "WWJpRzTWuOg8"
      }
    },
    {
      "cell_type": "markdown",
      "source": [
        "**Hint 2**\n",
        "\n",
        "Make use of the BST property to determine what side of any given node has values close to the target value and is therefore worth exploring."
      ],
      "metadata": {
        "id": "BhY862MpuhNE"
      }
    },
    {
      "cell_type": "markdown",
      "source": [
        "**Hint 3**\n",
        "\n",
        "What are the advantages and disadvantages of solving this problem iteratively as opposed to recursively?"
      ],
      "metadata": {
        "id": "tixRmplAuse9"
      }
    },
    {
      "cell_type": "markdown",
      "source": [
        "**Optimal Space & Time Complexity**\n",
        "\n",
        "- Average: O(log(N)) time | O(1) space.\n",
        "  - where n is the number of nodes in the BST.\n",
        "- Worst: O(n) time | O(1) space\n",
        "  - where n is the number of nodes in the BST."
      ],
      "metadata": {
        "id": "Wxm-qDhFu-kR"
      }
    },
    {
      "cell_type": "markdown",
      "source": [
        "# Classes definitions"
      ],
      "metadata": {
        "id": "Jur089c2eInl"
      }
    },
    {
      "cell_type": "code",
      "source": [
        "!pip install pytest pytest-sugar"
      ],
      "metadata": {
        "colab": {
          "base_uri": "https://localhost:8080/"
        },
        "id": "IKRJ7M1P_XWW",
        "outputId": "453f8e88-4aa9-42fe-e9e7-7a3b1a530ef5"
      },
      "execution_count": null,
      "outputs": [
        {
          "output_type": "stream",
          "name": "stdout",
          "text": [
            "Requirement already satisfied: pytest in /usr/local/lib/python3.10/dist-packages (8.3.4)\n",
            "Collecting pytest-sugar\n",
            "  Downloading pytest_sugar-1.0.0-py3-none-any.whl.metadata (4.4 kB)\n",
            "Requirement already satisfied: exceptiongroup>=1.0.0rc8 in /usr/local/lib/python3.10/dist-packages (from pytest) (1.2.2)\n",
            "Requirement already satisfied: iniconfig in /usr/local/lib/python3.10/dist-packages (from pytest) (2.0.0)\n",
            "Requirement already satisfied: packaging in /usr/local/lib/python3.10/dist-packages (from pytest) (24.2)\n",
            "Requirement already satisfied: pluggy<2,>=1.5 in /usr/local/lib/python3.10/dist-packages (from pytest) (1.5.0)\n",
            "Requirement already satisfied: tomli>=1 in /usr/local/lib/python3.10/dist-packages (from pytest) (2.2.1)\n",
            "Requirement already satisfied: termcolor>=2.1.0 in /usr/local/lib/python3.10/dist-packages (from pytest-sugar) (2.5.0)\n",
            "Downloading pytest_sugar-1.0.0-py3-none-any.whl (10 kB)\n",
            "Installing collected packages: pytest-sugar\n",
            "Successfully installed pytest-sugar-1.0.0\n"
          ]
        }
      ]
    },
    {
      "cell_type": "code",
      "source": [
        "%%file binarysearchtree.py\n",
        "import plotly.graph_objs as go\n",
        "\n",
        "class Node:\n",
        "    \"\"\"\n",
        "    A class representing a node in a binary search tree.\n",
        "\n",
        "    Attributes:\n",
        "    - value: the value of the node\n",
        "    - left_child: the left child of the node\n",
        "    - right_child: the right child of the node\n",
        "    \"\"\"\n",
        "\n",
        "    def __init__(self, value):\n",
        "        \"\"\"\n",
        "        Initializes a new instance of the Node class.\n",
        "\n",
        "        Args:\n",
        "        - value: the value of the node\n",
        "        \"\"\"\n",
        "        self.value = value\n",
        "        self.left_child = None\n",
        "        self.right_child = None\n",
        "\n",
        "\n",
        "class BST:\n",
        "    \"\"\"\n",
        "    A class representing a binary search tree.\n",
        "\n",
        "    Attributes:\n",
        "    - root: the root node of the tree\n",
        "    \"\"\"\n",
        "\n",
        "    def __init__(self):\n",
        "        \"\"\"\n",
        "        Initializes a new instance of the BST class.\n",
        "        \"\"\"\n",
        "        self.root = None\n",
        "\n",
        "    def add(self, value):\n",
        "        \"\"\"\n",
        "        Adds a new node with the given value to the tree.\n",
        "\n",
        "        Args:\n",
        "        - value: the value of the node to add\n",
        "        \"\"\"\n",
        "        if self.root is None:\n",
        "            # The root does exist yet, create it\n",
        "            self.root = Node(value)\n",
        "        else:\n",
        "            # Find the right place and insert new value\n",
        "            self._add_recursive(self.root, value)\n",
        "\n",
        "    def _add_recursive(self, current_node, value):\n",
        "        \"\"\"\n",
        "        A helper method to recursively traverse the tree and find the correct position to add the new node.\n",
        "\n",
        "        Args:\n",
        "        - current_node: the current node to traverse\n",
        "        - value: the value of the node to add\n",
        "        \"\"\"\n",
        "        if value <= current_node.value:\n",
        "            # Go to the left\n",
        "            if current_node.left_child is None:\n",
        "                current_node.left_child = Node(value)\n",
        "            else:\n",
        "                self._add_recursive(current_node.left_child, value)\n",
        "        else:\n",
        "            # Go to the right\n",
        "            if current_node.right_child is None:\n",
        "                current_node.right_child = Node(value)\n",
        "            else:\n",
        "                self._add_recursive(current_node.right_child, value)\n",
        "\n",
        "    def _contains(self, current_node, value):\n",
        "        \"\"\"\n",
        "        A helper method to recursively traverse the tree and find the node with the given value.\n",
        "\n",
        "        Args:\n",
        "        - current_node: the current node to traverse\n",
        "        - value: the value to search for\n",
        "\n",
        "        Returns:\n",
        "        - True if a node with the given value is found, False otherwise\n",
        "        \"\"\"\n",
        "        if current_node is None:\n",
        "            return False\n",
        "        if current_node.value == value:\n",
        "            return True\n",
        "        if value < current_node.value:\n",
        "            return self._contains(current_node.left_child, value)\n",
        "        return self._contains(current_node.right_child, value)\n",
        "\n",
        "    def contains(self, value):\n",
        "        \"\"\"\n",
        "        Checks whether a node with the given value is present in the tree.\n",
        "\n",
        "        Args:\n",
        "        - value: the value to search for\n",
        "\n",
        "        Returns:\n",
        "        - True if a node with the given value is found, False otherwise\n",
        "        \"\"\"\n",
        "        return self._contains(self.root, value)\n",
        "\n",
        "    def plot(self):\n",
        "        \"\"\"\n",
        "        Plots the binary search tree using Plotly.\n",
        "        \"\"\"\n",
        "        if self.root is None:\n",
        "            print(\"The tree is empty!\")\n",
        "            return\n",
        "\n",
        "        # Initialize lists for coordinates and connections\n",
        "        node_coords = []\n",
        "        lines = []\n",
        "\n",
        "        # Helper function to traverse the tree and fill the coordinate and connection lists\n",
        "        def _plot_recursive(node, x, y, offset):\n",
        "            if node is not None:\n",
        "                node_coords.append((x, y, node.value))\n",
        "                if node.left_child is not None:\n",
        "                    new_x = x - offset\n",
        "                    new_y = y - 1\n",
        "                    lines.append((x, y, new_x, new_y))\n",
        "                    _plot_recursive(node.left_child, new_x, new_y, offset / 2)\n",
        "                if node.right_child is not None:\n",
        "                    new_x = x + offset\n",
        "                    new_y = y - 1\n",
        "                    lines.append((x, y, new_x, new_y))\n",
        "                    _plot_recursive(node.right_child, new_x, new_y, offset / 2)\n",
        "\n",
        "        # Traverse the tree starting from the root node\n",
        "        _plot_recursive(self.root, x=0, y=0, offset=0.5)\n",
        "\n",
        "        # Create a scatter plot for the nodes\n",
        "        node_trace = go.Scatter(x=[x for x, y, _ in node_coords],\n",
        "                                y=[y for _, y, _ in node_coords],\n",
        "                                text=[str(val) for _, _, val in node_coords],\n",
        "                                mode='markers+text',\n",
        "                                textposition='top center',\n",
        "                                marker=dict(symbol='circle',\n",
        "                                            size=20,\n",
        "                                            color='darkblue'))\n",
        "\n",
        "        # Create a scatter plot for the connections between nodes\n",
        "        line_trace = go.Scatter(x=sum([[x1, x2, None] for x1, y1, x2, y2 in lines], []),\n",
        "                                y=sum([[y1, y2, None] for x1, y1, x2, y2 in lines], []),\n",
        "                                mode='lines',\n",
        "                                line=dict(color='black'))\n",
        "\n",
        "        # Combine the two scatter plots\n",
        "        layout = go.Layout(title='',\n",
        "                           xaxis=dict(title='', showgrid=False, zeroline=False, showticklabels=False),\n",
        "                           yaxis=dict(title='', showgrid=False, zeroline=False, showticklabels=False),\n",
        "                           showlegend=False)\n",
        "\n",
        "        fig = go.Figure(data=[node_trace, line_trace], layout=layout)\n",
        "        fig.show()"
      ],
      "metadata": {
        "id": "3-Uk4i-Mfmxn",
        "colab": {
          "base_uri": "https://localhost:8080/"
        },
        "outputId": "04e86031-c3ea-4a7a-98f8-aedf426e0284"
      },
      "execution_count": null,
      "outputs": [
        {
          "output_type": "stream",
          "name": "stdout",
          "text": [
            "Writing binarysearchtree.py\n"
          ]
        }
      ]
    },
    {
      "cell_type": "code",
      "source": [
        "%run -i binarysearchtree.py"
      ],
      "metadata": {
        "id": "PIu4Cq4YZzwo"
      },
      "execution_count": null,
      "outputs": []
    },
    {
      "cell_type": "code",
      "source": [
        "from binarysearchtree import *\n",
        "# Example usage:\n",
        "bst = BST()\n",
        "for value in [5, 3, 1, 0, 2, 4, 7, 6, 8]:\n",
        "    bst.add(value)\n",
        "bst.plot()"
      ],
      "metadata": {
        "colab": {
          "base_uri": "https://localhost:8080/",
          "height": 542
        },
        "id": "Hh933QK5fsCQ",
        "outputId": "c46cd206-7cdf-4f5e-f48b-535ac1dd29e6"
      },
      "execution_count": null,
      "outputs": [
        {
          "output_type": "display_data",
          "data": {
            "text/html": [
              "<html>\n",
              "<head><meta charset=\"utf-8\" /></head>\n",
              "<body>\n",
              "    <div>            <script src=\"https://cdnjs.cloudflare.com/ajax/libs/mathjax/2.7.5/MathJax.js?config=TeX-AMS-MML_SVG\"></script><script type=\"text/javascript\">if (window.MathJax && window.MathJax.Hub && window.MathJax.Hub.Config) {window.MathJax.Hub.Config({SVG: {font: \"STIX-Web\"}});}</script>                <script type=\"text/javascript\">window.PlotlyConfig = {MathJaxConfig: 'local'};</script>\n",
              "        <script charset=\"utf-8\" src=\"https://cdn.plot.ly/plotly-2.35.2.min.js\"></script>                <div id=\"e797516a-a346-44f6-a24e-deccb8141ad2\" class=\"plotly-graph-div\" style=\"height:525px; width:100%;\"></div>            <script type=\"text/javascript\">                                    window.PLOTLYENV=window.PLOTLYENV || {};                                    if (document.getElementById(\"e797516a-a346-44f6-a24e-deccb8141ad2\")) {                    Plotly.newPlot(                        \"e797516a-a346-44f6-a24e-deccb8141ad2\",                        [{\"marker\":{\"color\":\"darkblue\",\"size\":20,\"symbol\":\"circle\"},\"mode\":\"markers+text\",\"text\":[\"5\",\"3\",\"1\",\"0\",\"2\",\"4\",\"7\",\"6\",\"8\"],\"textposition\":\"top center\",\"x\":[0,-0.5,-0.75,-0.875,-0.625,-0.25,0.5,0.25,0.75],\"y\":[0,-1,-2,-3,-3,-2,-1,-2,-2],\"type\":\"scatter\"},{\"line\":{\"color\":\"black\"},\"mode\":\"lines\",\"x\":[0,-0.5,null,-0.5,-0.75,null,-0.75,-0.875,null,-0.75,-0.625,null,-0.5,-0.25,null,0,0.5,null,0.5,0.25,null,0.5,0.75,null],\"y\":[0,-1,null,-1,-2,null,-2,-3,null,-2,-3,null,-1,-2,null,0,-1,null,-1,-2,null,-1,-2,null],\"type\":\"scatter\"}],                        {\"showlegend\":false,\"title\":{\"text\":\"\"},\"xaxis\":{\"showgrid\":false,\"showticklabels\":false,\"title\":{\"text\":\"\"},\"zeroline\":false},\"yaxis\":{\"showgrid\":false,\"showticklabels\":false,\"title\":{\"text\":\"\"},\"zeroline\":false},\"template\":{\"data\":{\"histogram2dcontour\":[{\"type\":\"histogram2dcontour\",\"colorbar\":{\"outlinewidth\":0,\"ticks\":\"\"},\"colorscale\":[[0.0,\"#0d0887\"],[0.1111111111111111,\"#46039f\"],[0.2222222222222222,\"#7201a8\"],[0.3333333333333333,\"#9c179e\"],[0.4444444444444444,\"#bd3786\"],[0.5555555555555556,\"#d8576b\"],[0.6666666666666666,\"#ed7953\"],[0.7777777777777778,\"#fb9f3a\"],[0.8888888888888888,\"#fdca26\"],[1.0,\"#f0f921\"]]}],\"choropleth\":[{\"type\":\"choropleth\",\"colorbar\":{\"outlinewidth\":0,\"ticks\":\"\"}}],\"histogram2d\":[{\"type\":\"histogram2d\",\"colorbar\":{\"outlinewidth\":0,\"ticks\":\"\"},\"colorscale\":[[0.0,\"#0d0887\"],[0.1111111111111111,\"#46039f\"],[0.2222222222222222,\"#7201a8\"],[0.3333333333333333,\"#9c179e\"],[0.4444444444444444,\"#bd3786\"],[0.5555555555555556,\"#d8576b\"],[0.6666666666666666,\"#ed7953\"],[0.7777777777777778,\"#fb9f3a\"],[0.8888888888888888,\"#fdca26\"],[1.0,\"#f0f921\"]]}],\"heatmap\":[{\"type\":\"heatmap\",\"colorbar\":{\"outlinewidth\":0,\"ticks\":\"\"},\"colorscale\":[[0.0,\"#0d0887\"],[0.1111111111111111,\"#46039f\"],[0.2222222222222222,\"#7201a8\"],[0.3333333333333333,\"#9c179e\"],[0.4444444444444444,\"#bd3786\"],[0.5555555555555556,\"#d8576b\"],[0.6666666666666666,\"#ed7953\"],[0.7777777777777778,\"#fb9f3a\"],[0.8888888888888888,\"#fdca26\"],[1.0,\"#f0f921\"]]}],\"heatmapgl\":[{\"type\":\"heatmapgl\",\"colorbar\":{\"outlinewidth\":0,\"ticks\":\"\"},\"colorscale\":[[0.0,\"#0d0887\"],[0.1111111111111111,\"#46039f\"],[0.2222222222222222,\"#7201a8\"],[0.3333333333333333,\"#9c179e\"],[0.4444444444444444,\"#bd3786\"],[0.5555555555555556,\"#d8576b\"],[0.6666666666666666,\"#ed7953\"],[0.7777777777777778,\"#fb9f3a\"],[0.8888888888888888,\"#fdca26\"],[1.0,\"#f0f921\"]]}],\"contourcarpet\":[{\"type\":\"contourcarpet\",\"colorbar\":{\"outlinewidth\":0,\"ticks\":\"\"}}],\"contour\":[{\"type\":\"contour\",\"colorbar\":{\"outlinewidth\":0,\"ticks\":\"\"},\"colorscale\":[[0.0,\"#0d0887\"],[0.1111111111111111,\"#46039f\"],[0.2222222222222222,\"#7201a8\"],[0.3333333333333333,\"#9c179e\"],[0.4444444444444444,\"#bd3786\"],[0.5555555555555556,\"#d8576b\"],[0.6666666666666666,\"#ed7953\"],[0.7777777777777778,\"#fb9f3a\"],[0.8888888888888888,\"#fdca26\"],[1.0,\"#f0f921\"]]}],\"surface\":[{\"type\":\"surface\",\"colorbar\":{\"outlinewidth\":0,\"ticks\":\"\"},\"colorscale\":[[0.0,\"#0d0887\"],[0.1111111111111111,\"#46039f\"],[0.2222222222222222,\"#7201a8\"],[0.3333333333333333,\"#9c179e\"],[0.4444444444444444,\"#bd3786\"],[0.5555555555555556,\"#d8576b\"],[0.6666666666666666,\"#ed7953\"],[0.7777777777777778,\"#fb9f3a\"],[0.8888888888888888,\"#fdca26\"],[1.0,\"#f0f921\"]]}],\"mesh3d\":[{\"type\":\"mesh3d\",\"colorbar\":{\"outlinewidth\":0,\"ticks\":\"\"}}],\"scatter\":[{\"fillpattern\":{\"fillmode\":\"overlay\",\"size\":10,\"solidity\":0.2},\"type\":\"scatter\"}],\"parcoords\":[{\"type\":\"parcoords\",\"line\":{\"colorbar\":{\"outlinewidth\":0,\"ticks\":\"\"}}}],\"scatterpolargl\":[{\"type\":\"scatterpolargl\",\"marker\":{\"colorbar\":{\"outlinewidth\":0,\"ticks\":\"\"}}}],\"bar\":[{\"error_x\":{\"color\":\"#2a3f5f\"},\"error_y\":{\"color\":\"#2a3f5f\"},\"marker\":{\"line\":{\"color\":\"#E5ECF6\",\"width\":0.5},\"pattern\":{\"fillmode\":\"overlay\",\"size\":10,\"solidity\":0.2}},\"type\":\"bar\"}],\"scattergeo\":[{\"type\":\"scattergeo\",\"marker\":{\"colorbar\":{\"outlinewidth\":0,\"ticks\":\"\"}}}],\"scatterpolar\":[{\"type\":\"scatterpolar\",\"marker\":{\"colorbar\":{\"outlinewidth\":0,\"ticks\":\"\"}}}],\"histogram\":[{\"marker\":{\"pattern\":{\"fillmode\":\"overlay\",\"size\":10,\"solidity\":0.2}},\"type\":\"histogram\"}],\"scattergl\":[{\"type\":\"scattergl\",\"marker\":{\"colorbar\":{\"outlinewidth\":0,\"ticks\":\"\"}}}],\"scatter3d\":[{\"type\":\"scatter3d\",\"line\":{\"colorbar\":{\"outlinewidth\":0,\"ticks\":\"\"}},\"marker\":{\"colorbar\":{\"outlinewidth\":0,\"ticks\":\"\"}}}],\"scattermapbox\":[{\"type\":\"scattermapbox\",\"marker\":{\"colorbar\":{\"outlinewidth\":0,\"ticks\":\"\"}}}],\"scatterternary\":[{\"type\":\"scatterternary\",\"marker\":{\"colorbar\":{\"outlinewidth\":0,\"ticks\":\"\"}}}],\"scattercarpet\":[{\"type\":\"scattercarpet\",\"marker\":{\"colorbar\":{\"outlinewidth\":0,\"ticks\":\"\"}}}],\"carpet\":[{\"aaxis\":{\"endlinecolor\":\"#2a3f5f\",\"gridcolor\":\"white\",\"linecolor\":\"white\",\"minorgridcolor\":\"white\",\"startlinecolor\":\"#2a3f5f\"},\"baxis\":{\"endlinecolor\":\"#2a3f5f\",\"gridcolor\":\"white\",\"linecolor\":\"white\",\"minorgridcolor\":\"white\",\"startlinecolor\":\"#2a3f5f\"},\"type\":\"carpet\"}],\"table\":[{\"cells\":{\"fill\":{\"color\":\"#EBF0F8\"},\"line\":{\"color\":\"white\"}},\"header\":{\"fill\":{\"color\":\"#C8D4E3\"},\"line\":{\"color\":\"white\"}},\"type\":\"table\"}],\"barpolar\":[{\"marker\":{\"line\":{\"color\":\"#E5ECF6\",\"width\":0.5},\"pattern\":{\"fillmode\":\"overlay\",\"size\":10,\"solidity\":0.2}},\"type\":\"barpolar\"}],\"pie\":[{\"automargin\":true,\"type\":\"pie\"}]},\"layout\":{\"autotypenumbers\":\"strict\",\"colorway\":[\"#636efa\",\"#EF553B\",\"#00cc96\",\"#ab63fa\",\"#FFA15A\",\"#19d3f3\",\"#FF6692\",\"#B6E880\",\"#FF97FF\",\"#FECB52\"],\"font\":{\"color\":\"#2a3f5f\"},\"hovermode\":\"closest\",\"hoverlabel\":{\"align\":\"left\"},\"paper_bgcolor\":\"white\",\"plot_bgcolor\":\"#E5ECF6\",\"polar\":{\"bgcolor\":\"#E5ECF6\",\"angularaxis\":{\"gridcolor\":\"white\",\"linecolor\":\"white\",\"ticks\":\"\"},\"radialaxis\":{\"gridcolor\":\"white\",\"linecolor\":\"white\",\"ticks\":\"\"}},\"ternary\":{\"bgcolor\":\"#E5ECF6\",\"aaxis\":{\"gridcolor\":\"white\",\"linecolor\":\"white\",\"ticks\":\"\"},\"baxis\":{\"gridcolor\":\"white\",\"linecolor\":\"white\",\"ticks\":\"\"},\"caxis\":{\"gridcolor\":\"white\",\"linecolor\":\"white\",\"ticks\":\"\"}},\"coloraxis\":{\"colorbar\":{\"outlinewidth\":0,\"ticks\":\"\"}},\"colorscale\":{\"sequential\":[[0.0,\"#0d0887\"],[0.1111111111111111,\"#46039f\"],[0.2222222222222222,\"#7201a8\"],[0.3333333333333333,\"#9c179e\"],[0.4444444444444444,\"#bd3786\"],[0.5555555555555556,\"#d8576b\"],[0.6666666666666666,\"#ed7953\"],[0.7777777777777778,\"#fb9f3a\"],[0.8888888888888888,\"#fdca26\"],[1.0,\"#f0f921\"]],\"sequentialminus\":[[0.0,\"#0d0887\"],[0.1111111111111111,\"#46039f\"],[0.2222222222222222,\"#7201a8\"],[0.3333333333333333,\"#9c179e\"],[0.4444444444444444,\"#bd3786\"],[0.5555555555555556,\"#d8576b\"],[0.6666666666666666,\"#ed7953\"],[0.7777777777777778,\"#fb9f3a\"],[0.8888888888888888,\"#fdca26\"],[1.0,\"#f0f921\"]],\"diverging\":[[0,\"#8e0152\"],[0.1,\"#c51b7d\"],[0.2,\"#de77ae\"],[0.3,\"#f1b6da\"],[0.4,\"#fde0ef\"],[0.5,\"#f7f7f7\"],[0.6,\"#e6f5d0\"],[0.7,\"#b8e186\"],[0.8,\"#7fbc41\"],[0.9,\"#4d9221\"],[1,\"#276419\"]]},\"xaxis\":{\"gridcolor\":\"white\",\"linecolor\":\"white\",\"ticks\":\"\",\"title\":{\"standoff\":15},\"zerolinecolor\":\"white\",\"automargin\":true,\"zerolinewidth\":2},\"yaxis\":{\"gridcolor\":\"white\",\"linecolor\":\"white\",\"ticks\":\"\",\"title\":{\"standoff\":15},\"zerolinecolor\":\"white\",\"automargin\":true,\"zerolinewidth\":2},\"scene\":{\"xaxis\":{\"backgroundcolor\":\"#E5ECF6\",\"gridcolor\":\"white\",\"linecolor\":\"white\",\"showbackground\":true,\"ticks\":\"\",\"zerolinecolor\":\"white\",\"gridwidth\":2},\"yaxis\":{\"backgroundcolor\":\"#E5ECF6\",\"gridcolor\":\"white\",\"linecolor\":\"white\",\"showbackground\":true,\"ticks\":\"\",\"zerolinecolor\":\"white\",\"gridwidth\":2},\"zaxis\":{\"backgroundcolor\":\"#E5ECF6\",\"gridcolor\":\"white\",\"linecolor\":\"white\",\"showbackground\":true,\"ticks\":\"\",\"zerolinecolor\":\"white\",\"gridwidth\":2}},\"shapedefaults\":{\"line\":{\"color\":\"#2a3f5f\"}},\"annotationdefaults\":{\"arrowcolor\":\"#2a3f5f\",\"arrowhead\":0,\"arrowwidth\":1},\"geo\":{\"bgcolor\":\"white\",\"landcolor\":\"#E5ECF6\",\"subunitcolor\":\"white\",\"showland\":true,\"showlakes\":true,\"lakecolor\":\"white\"},\"title\":{\"x\":0.05},\"mapbox\":{\"style\":\"light\"}}}},                        {\"responsive\": true}                    ).then(function(){\n",
              "                            \n",
              "var gd = document.getElementById('e797516a-a346-44f6-a24e-deccb8141ad2');\n",
              "var x = new MutationObserver(function (mutations, observer) {{\n",
              "        var display = window.getComputedStyle(gd).display;\n",
              "        if (!display || display === 'none') {{\n",
              "            console.log([gd, 'removed!']);\n",
              "            Plotly.purge(gd);\n",
              "            observer.disconnect();\n",
              "        }}\n",
              "}});\n",
              "\n",
              "// Listen for the removal of the full notebook cells\n",
              "var notebookContainer = gd.closest('#notebook-container');\n",
              "if (notebookContainer) {{\n",
              "    x.observe(notebookContainer, {childList: true});\n",
              "}}\n",
              "\n",
              "// Listen for the clearing of the current output cell\n",
              "var outputEl = gd.closest('.output');\n",
              "if (outputEl) {{\n",
              "    x.observe(outputEl, {childList: true});\n",
              "}}\n",
              "\n",
              "                        })                };                            </script>        </div>\n",
              "</body>\n",
              "</html>"
            ]
          },
          "metadata": {}
        }
      ]
    },
    {
      "cell_type": "code",
      "source": [
        "%%file closestvalue.py\n",
        "import pytest\n",
        "from binarysearchtree import *\n",
        "\n",
        "def findClosestValue(tree, target):\n",
        "    \"\"\"\n",
        "    Finds the value in a binary search tree that is closest to the given target value.\n",
        "\n",
        "    This function begins the search for the closest value from the root of the binary search tree.\n",
        "    It works by recursively (or sequentialy) exploring the tree, narrowing down the search based on the target value\n",
        "    and the current node's value. The closest value is constantly updated throughout the search process.\n",
        "\n",
        "    Parameters:\n",
        "    tree (BinarySearchTree): The binary search tree object in which to find the closest value.\n",
        "                             It is expected to have a 'root' attribute that points to the root node of the tree.\n",
        "    target (int or float): The target value for which the closest value in the binary search tree is sought.\n",
        "\n",
        "    Returns:\n",
        "    int or float: The value in the binary search tree that is closest to the target value.\n",
        "    \"\"\"\n",
        "    return findClosestValueInBstHelper(tree.root, target, tree.root.value)\n",
        "\n",
        "def findClosestValueInBstHelper(node, target, closest):\n",
        "    if node is None:\n",
        "        return closest\n",
        "    if abs(target - closest) > abs(target - node.value):\n",
        "        closest = node.value\n",
        "    if target < node.value:\n",
        "        return findClosestValueInBstHelper(node.left_child, target, closest)\n",
        "    elif target > node.value:\n",
        "        return findClosestValueInBstHelper(node.right_child, target, closest)\n",
        "    else:\n",
        "        return closest\n",
        "\n",
        "@pytest.fixture(scope=\"session\")\n",
        "def data():\n",
        "\n",
        "    array = [[10, 5, 15, 13, 22, 14, 2, 5, 1],\n",
        "             [100,5,502,204,55000,1001,4500,203,205,207,\n",
        "              206,208,2,15,5,22,57,60,1,3,-51,1,1,1,1,1,-403]\n",
        "             ]\n",
        "    return array\n",
        "\n",
        "def test_1(data):\n",
        "    bst = BST()\n",
        "    for value in data[0]:\n",
        "      bst.add(value)\n",
        "    assert findClosestValue(bst, 12) == 13\n",
        "\n",
        "def test_2(data):\n",
        "    bst = BST()\n",
        "    for value in data[1]:\n",
        "      bst.add(value)\n",
        "    assert findClosestValue(bst, 100) == 100\n",
        "\n",
        "def test_3(data):\n",
        "    bst = BST()\n",
        "    for value in data[1]:\n",
        "      bst.add(value)\n",
        "    assert findClosestValue(bst, 208) == 208\n",
        "\n",
        "def test_4(data):\n",
        "    bst = BST()\n",
        "    for value in data[1]:\n",
        "      bst.add(value)\n",
        "    assert findClosestValue(bst, 4500) == 4500\n",
        "\n",
        "def test_5(data):\n",
        "    bst = BST()\n",
        "    for value in data[1]:\n",
        "      bst.add(value)\n",
        "    assert findClosestValue(bst, 4501) == 4500\n",
        "\n",
        "def test_6(data):\n",
        "    bst = BST()\n",
        "    for value in data[1]:\n",
        "      bst.add(value)\n",
        "    assert findClosestValue(bst, -70) == -51\n",
        "\n",
        "def test_7(data):\n",
        "    bst = BST()\n",
        "    for value in data[1]:\n",
        "      bst.add(value)\n",
        "    assert findClosestValue(bst, 2000) == 1001\n",
        "\n",
        "def test_8(data):\n",
        "    bst = BST()\n",
        "    for value in data[1]:\n",
        "      bst.add(value)\n",
        "    assert findClosestValue(bst, 6) == 5\n",
        "\n",
        "def test_9(data):\n",
        "    bst = BST()\n",
        "    for value in data[1]:\n",
        "      bst.add(value)\n",
        "    assert findClosestValue(bst, 30000) == 55000\n",
        "\n",
        "def test_10(data):\n",
        "    bst = BST()\n",
        "    for value in data[1]:\n",
        "      bst.add(value)\n",
        "    assert findClosestValue(bst, -1) == 1\n",
        "\n",
        "def test_11(data):\n",
        "    bst = BST()\n",
        "    for value in data[1]:\n",
        "      bst.add(value)\n",
        "    assert findClosestValue(bst, 29751) == 55000\n",
        "\n",
        "def test_12(data):\n",
        "    bst = BST()\n",
        "    for value in data[1]:\n",
        "      bst.add(value)\n",
        "    assert findClosestValue(bst, 29749) == 4500"
      ],
      "metadata": {
        "colab": {
          "base_uri": "https://localhost:8080/"
        },
        "id": "r27fL9BcKYqG",
        "outputId": "f1e6cc4a-6b68-4a38-ec28-1ad5a91c9142"
      },
      "execution_count": 33,
      "outputs": [
        {
          "output_type": "stream",
          "name": "stdout",
          "text": [
            "Overwriting closestvalue.py\n"
          ]
        }
      ]
    },
    {
      "cell_type": "code",
      "source": [
        "## Geração de Dados\n",
        "## Esta seção cria árvores de busca binária (BST) balanceadas com tamanhos variados para os testes.\n",
        "\n",
        "\n",
        "def build_balanced_bst(values):\n",
        "\n",
        "     # BST balanceada a partir de uma lista ordenada de valores.\n",
        "\n",
        "    if not values:\n",
        "        return None\n",
        "    mid = len(values) // 2\n",
        "    root = Node(values[mid])\n",
        "    root.left_child = build_balanced_bst(values[:mid])\n",
        "    root.right_child = build_balanced_bst(values[mid + 1:])\n",
        "    return root\n",
        "\n",
        "def create_balanced_bst(size, seed=42):\n",
        "\n",
        "    # BST balanceada com 'size' nós.\n",
        "\n",
        "    random.seed(seed)\n",
        "    values = sorted(random.sample(range(1, 10**6), size))\n",
        "    bst = BST()\n",
        "    bst.root = build_balanced_bst(values)\n",
        "    return bst\n",
        "\n",
        "# Ex Criar árvores rapidamente\n",
        "sizes = [10**3, 10**4, 10**5]\n",
        "balanced_trees = {size: create_balanced_bst(size) for size in sizes}\n",
        "print(\"Árvores balanceadas geradas com sucesso!\")\n"
      ],
      "metadata": {
        "id": "d9jy35347BKP",
        "colab": {
          "base_uri": "https://localhost:8080/"
        },
        "outputId": "7fb30b3e-6c14-4156-c507-8fca6b36fb71"
      },
      "execution_count": 22,
      "outputs": [
        {
          "output_type": "stream",
          "name": "stdout",
          "text": [
            "Árvores balanceadas geradas com sucesso!\n"
          ]
        }
      ]
    },
    {
      "cell_type": "code",
      "source": [
        "# Avaliar desempenho\n",
        "## Aqui medimos o tempo médio e intervalo de confiança para o algoritmo findClosestValue nas árvores geradas.\n",
        "from binarysearchtree import BST\n",
        "from closestvalue import findClosestValue\n",
        "import time\n",
        "import numpy as np\n",
        "\n",
        "# Função de avaliação\n",
        "def evaluate_closest_algorithm(bst, targets, repetitions=10):\n",
        "    \"\"\"\n",
        "    Avalia o tempo médio e intervalo de confiança do algoritmo `findClosestValue`.\n",
        "    \"\"\"\n",
        "    times = []\n",
        "    for _ in range(repetitions):\n",
        "        for target in targets:\n",
        "            start = time.time()\n",
        "            findClosestValue(bst, target)\n",
        "            end = time.time()\n",
        "            times.append(end - start)\n",
        "    mean_time = np.mean(times)\n",
        "    confidence_interval = 1.96 * np.std(times) / np.sqrt(len(times))\n",
        "    return mean_time, confidence_interval\n",
        "\n",
        "# Definir alvos para avaliação\n",
        "targets = [500, 1000, 5000]\n",
        "\n",
        "# Avaliador de desempenho\n",
        "results = {}  # Inicializa o dicionário de resultados\n",
        "\n",
        "for size, bst in balanced_trees.items():\n",
        "    mean_time, ci = evaluate_closest_algorithm(bst, targets)\n",
        "    results[size] = (mean_time, ci)\n",
        "\n",
        "# Exibir resultados\n",
        "print(\"Resultados da Avaliação:\")\n",
        "for size, (mean, ci) in results.items():\n",
        "    print(f\"Tamanho: {size}, Tempo médio: {mean:.5f}s, IC: ±{ci:.5f}s\")\n"
      ],
      "metadata": {
        "colab": {
          "base_uri": "https://localhost:8080/"
        },
        "id": "BK8669-fHZSF",
        "outputId": "9173ad39-90db-4593-afd5-7cefded90463"
      },
      "execution_count": 34,
      "outputs": [
        {
          "output_type": "stream",
          "name": "stdout",
          "text": [
            "Resultados da Avaliação:\n",
            "Tamanho: 1000, Tempo médio: 0.00001s, IC: ±0.00000s\n",
            "Tamanho: 10000, Tempo médio: 0.00001s, IC: ±0.00000s\n",
            "Tamanho: 100000, Tempo médio: 0.00001s, IC: ±0.00000s\n"
          ]
        }
      ]
    },
    {
      "cell_type": "code",
      "source": [
        "# Comparação com listas\n",
        "## Esta seção compara o desempenho do algoritmo usando listas ordenadas como estrutura de dados.\n",
        "def evaluate_with_list(data, targets, repetitions=10):\n",
        "    times = []\n",
        "    for _ in range(repetitions):\n",
        "        for target in targets:\n",
        "            start = time.time()\n",
        "            closest = min(data, key=lambda x: abs(x - target))\n",
        "            end = time.time()\n",
        "            times.append(end - start)\n",
        "    mean_time = np.mean(times)\n",
        "    confidence_interval = 1.96 * np.std(times) / np.sqrt(repetitions)\n",
        "    return mean_time, confidence_interval\n",
        "\n",
        "# Valores para os quais encontrar o mais próximo\n",
        "targets = [500, 1000, 5000]\n",
        "\n",
        "# Avaliar desempenho\n",
        "list_results = {}\n",
        "for size in sizes:\n",
        "    list_data = sorted(random.sample(range(1, 10**6), size))  # Lista ordenada\n",
        "    mean_time, ci = evaluate_with_list(list_data, targets)    # Avaliar o tempo\n",
        "    list_results[size] = (mean_time, ci)\n",
        "\n",
        "# Exibir resultados\n",
        "for size, (mean, ci) in list_results.items():\n",
        "    print(f\"Tamanho: {size}, Tempo médio: {mean:.5f}s, IC: ±{ci:.5f}s\")\n",
        "\n",
        ""
      ],
      "metadata": {
        "colab": {
          "base_uri": "https://localhost:8080/"
        },
        "id": "Gs5ABSbkMWx3",
        "outputId": "16c8e4e9-ca2b-4acb-831c-b0dd3c49d656"
      },
      "execution_count": 24,
      "outputs": [
        {
          "output_type": "stream",
          "name": "stdout",
          "text": [
            "Tamanho: 1000, Tempo médio: 0.00015s, IC: ±0.00003s\n",
            "Tamanho: 10000, Tempo médio: 0.00142s, IC: ±0.00014s\n",
            "Tamanho: 100000, Tempo médio: 0.02479s, IC: ±0.00110s\n"
          ]
        }
      ]
    },
    {
      "cell_type": "code",
      "source": [
        "import matplotlib.pyplot as plt\n",
        "\n",
        "# Dados para o gráfico\n",
        "bst_sizes = list(results.keys())\n",
        "bst_times = [results[size][0] for size in bst_sizes]\n",
        "bst_cis = [results[size][1] for size in bst_sizes]\n",
        "\n",
        "list_sizes = list(list_results.keys())\n",
        "list_times = [list_results[size][0] for size in list_sizes]\n",
        "list_cis = [list_results[size][1] for size in list_sizes]\n",
        "\n",
        "# Gráfico comparativo\n",
        "plt.figure(figsize=(10, 6))\n",
        "plt.errorbar(bst_sizes, bst_times, yerr=bst_cis, fmt='o-', label='BST (Balanceada)', capsize=5)\n",
        "plt.errorbar(list_sizes, list_times, yerr=list_cis, fmt='o-', label='Lista Ordenada', capsize=5)\n",
        "plt.xscale('log')\n",
        "plt.xlabel('Tamanho da Estrutura (N)')\n",
        "plt.ylabel('Tempo Médio (s)')\n",
        "plt.title('Desempenho do Algoritmo Find Closest Value')\n",
        "plt.legend()\n",
        "plt.show()\n"
      ],
      "metadata": {
        "colab": {
          "base_uri": "https://localhost:8080/",
          "height": 569
        },
        "id": "pMyWzt9MQrqK",
        "outputId": "ebe2b57c-1a31-4e8b-b532-22cd259c5ae7"
      },
      "execution_count": 35,
      "outputs": [
        {
          "output_type": "display_data",
          "data": {
            "text/plain": [
              "<Figure size 1000x600 with 1 Axes>"
            ],
            "image/png": "[encoded data removed]"
          },
          "metadata": {}
        }
      ]
    },
    {
      "cell_type": "code",
      "source": [
        "!pytest closestvalue.py -vv"
      ],
      "metadata": {
        "colab": {
          "base_uri": "https://localhost:8080/"
        },
        "id": "iw65pBGTMYmg",
        "outputId": "02749fa5-7521-45cc-8d74-24ad8147d234"
      },
      "execution_count": 36,
      "outputs": [
        {
          "output_type": "stream",
          "name": "stdout",
          "text": [
            "\u001b[1mTest session starts (platform: linux, Python 3.10.12, pytest 8.3.4, pytest-sugar 1.0.0)\u001b[0m\n",
            "cachedir: .pytest_cache\n",
            "rootdir: /content\n",
            "plugins: sugar-1.0.0, typeguard-4.4.1, anyio-3.7.1\n",
            "\u001b[1mcollecting ... \u001b[0m\u001b[1m\rcollected 12 items                                                                                 \u001b[0m\n",
            "\r\n",
            "\r \u001b[36mclosestvalue.py\u001b[0m::test_1\u001b[0m \u001b[32m✓\u001b[0m                                                             \u001b[32m8% \u001b[0m\u001b[40m\u001b[32m▉\u001b[0m\u001b[40m\u001b[32m         \u001b[0m\r\n",
            "\r \u001b[36mclosestvalue.py\u001b[0m::test_2\u001b[0m \u001b[32m✓\u001b[0m                                                            \u001b[32m17% \u001b[0m\u001b[40m\u001b[32m█\u001b[0m\u001b[40m\u001b[32m▋        \u001b[0m\r\n",
            "\r \u001b[36mclosestvalue.py\u001b[0m::test_3\u001b[0m \u001b[32m✓\u001b[0m                                                            \u001b[32m25% \u001b[0m\u001b[40m\u001b[32m█\u001b[0m\u001b[40m\u001b[32m█\u001b[0m\u001b[40m\u001b[32m▌       \u001b[0m\r\n",
            "\r \u001b[36mclosestvalue.py\u001b[0m::test_4\u001b[0m \u001b[32m✓\u001b[0m                                                            \u001b[32m33% \u001b[0m\u001b[40m\u001b[32m█\u001b[0m\u001b[40m\u001b[32m█\u001b[0m\u001b[40m\u001b[32m█\u001b[0m\u001b[40m\u001b[32m▍      \u001b[0m\r\n",
            "\r \u001b[36mclosestvalue.py\u001b[0m::test_5\u001b[0m \u001b[32m✓\u001b[0m                                                            \u001b[32m42% \u001b[0m\u001b[40m\u001b[32m█\u001b[0m\u001b[40m\u001b[32m█\u001b[0m\u001b[40m\u001b[32m█\u001b[0m\u001b[40m\u001b[32m█\u001b[0m\u001b[40m\u001b[32m▎     \u001b[0m\r\n",
            "\r \u001b[36mclosestvalue.py\u001b[0m::test_6\u001b[0m \u001b[32m✓\u001b[0m                                                            \u001b[32m50% \u001b[0m\u001b[40m\u001b[32m█\u001b[0m\u001b[40m\u001b[32m█\u001b[0m\u001b[40m\u001b[32m█\u001b[0m\u001b[40m\u001b[32m█\u001b[0m\u001b[40m\u001b[32m█\u001b[0m\u001b[40m\u001b[32m     \u001b[0m\r\n",
            "\r \u001b[36mclosestvalue.py\u001b[0m::test_7\u001b[0m \u001b[32m✓\u001b[0m                                                            \u001b[32m58% \u001b[0m\u001b[40m\u001b[32m█\u001b[0m\u001b[40m\u001b[32m█\u001b[0m\u001b[40m\u001b[32m█\u001b[0m\u001b[40m\u001b[32m█\u001b[0m\u001b[40m\u001b[32m█\u001b[0m\u001b[40m\u001b[32m▉\u001b[0m\u001b[40m\u001b[32m    \u001b[0m\r\n",
            "\r \u001b[36mclosestvalue.py\u001b[0m::test_8\u001b[0m \u001b[32m✓\u001b[0m                                                            \u001b[32m67% \u001b[0m\u001b[40m\u001b[32m█\u001b[0m\u001b[40m\u001b[32m█\u001b[0m\u001b[40m\u001b[32m█\u001b[0m\u001b[40m\u001b[32m█\u001b[0m\u001b[40m\u001b[32m█\u001b[0m\u001b[40m\u001b[32m█\u001b[0m\u001b[40m\u001b[32m▋   \u001b[0m\r\n",
            "\r \u001b[36mclosestvalue.py\u001b[0m::test_9\u001b[0m \u001b[32m✓\u001b[0m                                                            \u001b[32m75% \u001b[0m\u001b[40m\u001b[32m█\u001b[0m\u001b[40m\u001b[32m█\u001b[0m\u001b[40m\u001b[32m█\u001b[0m\u001b[40m\u001b[32m█\u001b[0m\u001b[40m\u001b[32m█\u001b[0m\u001b[40m\u001b[32m█\u001b[0m\u001b[40m\u001b[32m█\u001b[0m\u001b[40m\u001b[32m▌  \u001b[0m\r\n",
            "\r \u001b[36mclosestvalue.py\u001b[0m::test_10\u001b[0m \u001b[32m✓\u001b[0m                                                           \u001b[32m83% \u001b[0m\u001b[40m\u001b[32m█\u001b[0m\u001b[40m\u001b[32m█\u001b[0m\u001b[40m\u001b[32m█\u001b[0m\u001b[40m\u001b[32m█\u001b[0m\u001b[40m\u001b[32m█\u001b[0m\u001b[40m\u001b[32m█\u001b[0m\u001b[40m\u001b[32m█\u001b[0m\u001b[40m\u001b[32m█\u001b[0m\u001b[40m\u001b[32m▍ \u001b[0m\r\n",
            "\r \u001b[36mclosestvalue.py\u001b[0m::test_11\u001b[0m \u001b[32m✓\u001b[0m                                                           \u001b[32m92% \u001b[0m\u001b[40m\u001b[32m█\u001b[0m\u001b[40m\u001b[32m█\u001b[0m\u001b[40m\u001b[32m█\u001b[0m\u001b[40m\u001b[32m█\u001b[0m\u001b[40m\u001b[32m█\u001b[0m\u001b[40m\u001b[32m█\u001b[0m\u001b[40m\u001b[32m█\u001b[0m\u001b[40m\u001b[32m█\u001b[0m\u001b[40m\u001b[32m█\u001b[0m\u001b[40m\u001b[32m▎\u001b[0m\r\n",
            "\r \u001b[36mclosestvalue.py\u001b[0m::test_12\u001b[0m \u001b[32m✓\u001b[0m                                                          \u001b[32m100% \u001b[0m\u001b[40m\u001b[32m█\u001b[0m\u001b[40m\u001b[32m█\u001b[0m\u001b[40m\u001b[32m█\u001b[0m\u001b[40m\u001b[32m█\u001b[0m\u001b[40m\u001b[32m█\u001b[0m\u001b[40m\u001b[32m█\u001b[0m\u001b[40m\u001b[32m█\u001b[0m\u001b[40m\u001b[32m█\u001b[0m\u001b[40m\u001b[32m█\u001b[0m\u001b[40m\u001b[32m█\u001b[0m\n",
            "\n",
            "Results (0.05s):\n",
            "\u001b[32m      12 passed\u001b[0m\n"
          ]
        }
      ]
    }
  ]
}