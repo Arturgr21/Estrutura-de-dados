{
  "nbformat": 4,
  "nbformat_minor": 0,
  "metadata": {
    "colab": {
      "provenance": []
    },
    "kernelspec": {
      "name": "python3",
      "display_name": "Python 3"
    },
    "language_info": {
      "name": "python"
    }
  },
  "cells": [
    {
      "cell_type": "code",
      "execution_count": 1,
      "metadata": {
        "colab": {
          "base_uri": "https://localhost:8080/"
        },
        "id": "9XkbenZurksc",
        "outputId": "bfbde0b6-9849-4367-cafd-19df5ddaed40"
      },
      "outputs": [
        {
          "output_type": "stream",
          "name": "stdout",
          "text": [
            "Requirement already satisfied: networkx in /usr/local/lib/python3.10/dist-packages (3.4.2)\n"
          ]
        }
      ],
      "source": [
        "!pip install networkx"
      ]
    },
    {
      "cell_type": "code",
      "source": [
        "from google.colab import files\n",
        "\n",
        "uploaded = files.upload()\n",
        "\n",
        "for fn in uploaded.keys():\n",
        "  print('User uploaded file \"{name}\" with length {length} bytes'.format(\n",
        "      name=fn, length=len(uploaded[fn])))\n",
        "\n",
        "# Agora você pode usar o nome do arquivo para carregá-lo com o networkx:\n",
        "import networkx as nx\n",
        "\n",
        "grafo = nx.read_graphml('k-core.graphml')  # Substitua pelo nome real do arquivo"
      ],
      "metadata": {
        "colab": {
          "base_uri": "https://localhost:8080/",
          "height": 89
        },
        "id": "acw28SmqxQ0D",
        "outputId": "bc3cc6ca-65bb-4aa5-ea73-37075260be8e"
      },
      "execution_count": 2,
      "outputs": [
        {
          "output_type": "display_data",
          "data": {
            "text/plain": [
              "<IPython.core.display.HTML object>"
            ],
            "text/html": [
              "\n",
              "     <input type=\"file\" id=\"files-6d565d64-fe54-4cc1-af41-c321cb3d1e9c\" name=\"files[]\" multiple disabled\n",
              "        style=\"border:none\" />\n",
              "     <output id=\"result-6d565d64-fe54-4cc1-af41-c321cb3d1e9c\">\n",
              "      Upload widget is only available when the cell has been executed in the\n",
              "      current browser session. Please rerun this cell to enable.\n",
              "      </output>\n",
              "      <script>// Copyright 2017 Google LLC\n",
              "//\n",
              "// Licensed under the Apache License, Version 2.0 (the \"License\");\n",
              "// you may not use this file except in compliance with the License.\n",
              "// You may obtain a copy of the License at\n",
              "//\n",
              "//      http://www.apache.org/licenses/LICENSE-2.0\n",
              "//\n",
              "// Unless required by applicable law or agreed to in writing, software\n",
              "// distributed under the License is distributed on an \"AS IS\" BASIS,\n",
              "// WITHOUT WARRANTIES OR CONDITIONS OF ANY KIND, either express or implied.\n",
              "// See the License for the specific language governing permissions and\n",
              "// limitations under the License.\n",
              "\n",
              "/**\n",
              " * @fileoverview Helpers for google.colab Python module.\n",
              " */\n",
              "(function(scope) {\n",
              "function span(text, styleAttributes = {}) {\n",
              "  const element = document.createElement('span');\n",
              "  element.textContent = text;\n",
              "  for (const key of Object.keys(styleAttributes)) {\n",
              "    element.style[key] = styleAttributes[key];\n",
              "  }\n",
              "  return element;\n",
              "}\n",
              "\n",
              "// Max number of bytes which will be uploaded at a time.\n",
              "const MAX_PAYLOAD_SIZE = 100 * 1024;\n",
              "\n",
              "function _uploadFiles(inputId, outputId) {\n",
              "  const steps = uploadFilesStep(inputId, outputId);\n",
              "  const outputElement = document.getElementById(outputId);\n",
              "  // Cache steps on the outputElement to make it available for the next call\n",
              "  // to uploadFilesContinue from Python.\n",
              "  outputElement.steps = steps;\n",
              "\n",
              "  return _uploadFilesContinue(outputId);\n",
              "}\n",
              "\n",
              "// This is roughly an async generator (not supported in the browser yet),\n",
              "// where there are multiple asynchronous steps and the Python side is going\n",
              "// to poll for completion of each step.\n",
              "// This uses a Promise to block the python side on completion of each step,\n",
              "// then passes the result of the previous step as the input to the next step.\n",
              "function _uploadFilesContinue(outputId) {\n",
              "  const outputElement = document.getElementById(outputId);\n",
              "  const steps = outputElement.steps;\n",
              "\n",
              "  const next = steps.next(outputElement.lastPromiseValue);\n",
              "  return Promise.resolve(next.value.promise).then((value) => {\n",
              "    // Cache the last promise value to make it available to the next\n",
              "    // step of the generator.\n",
              "    outputElement.lastPromiseValue = value;\n",
              "    return next.value.response;\n",
              "  });\n",
              "}\n",
              "\n",
              "/**\n",
              " * Generator function which is called between each async step of the upload\n",
              " * process.\n",
              " * @param {string} inputId Element ID of the input file picker element.\n",
              " * @param {string} outputId Element ID of the output display.\n",
              " * @return {!Iterable<!Object>} Iterable of next steps.\n",
              " */\n",
              "function* uploadFilesStep(inputId, outputId) {\n",
              "  const inputElement = document.getElementById(inputId);\n",
              "  inputElement.disabled = false;\n",
              "\n",
              "  const outputElement = document.getElementById(outputId);\n",
              "  outputElement.innerHTML = '';\n",
              "\n",
              "  const pickedPromise = new Promise((resolve) => {\n",
              "    inputElement.addEventListener('change', (e) => {\n",
              "      resolve(e.target.files);\n",
              "    });\n",
              "  });\n",
              "\n",
              "  const cancel = document.createElement('button');\n",
              "  inputElement.parentElement.appendChild(cancel);\n",
              "  cancel.textContent = 'Cancel upload';\n",
              "  const cancelPromise = new Promise((resolve) => {\n",
              "    cancel.onclick = () => {\n",
              "      resolve(null);\n",
              "    };\n",
              "  });\n",
              "\n",
              "  // Wait for the user to pick the files.\n",
              "  const files = yield {\n",
              "    promise: Promise.race([pickedPromise, cancelPromise]),\n",
              "    response: {\n",
              "      action: 'starting',\n",
              "    }\n",
              "  };\n",
              "\n",
              "  cancel.remove();\n",
              "\n",
              "  // Disable the input element since further picks are not allowed.\n",
              "  inputElement.disabled = true;\n",
              "\n",
              "  if (!files) {\n",
              "    return {\n",
              "      response: {\n",
              "        action: 'complete',\n",
              "      }\n",
              "    };\n",
              "  }\n",
              "\n",
              "  for (const file of files) {\n",
              "    const li = document.createElement('li');\n",
              "    li.append(span(file.name, {fontWeight: 'bold'}));\n",
              "    li.append(span(\n",
              "        `(${file.type || 'n/a'}) - ${file.size} bytes, ` +\n",
              "        `last modified: ${\n",
              "            file.lastModifiedDate ? file.lastModifiedDate.toLocaleDateString() :\n",
              "                                    'n/a'} - `));\n",
              "    const percent = span('0% done');\n",
              "    li.appendChild(percent);\n",
              "\n",
              "    outputElement.appendChild(li);\n",
              "\n",
              "    const fileDataPromise = new Promise((resolve) => {\n",
              "      const reader = new FileReader();\n",
              "      reader.onload = (e) => {\n",
              "        resolve(e.target.result);\n",
              "      };\n",
              "      reader.readAsArrayBuffer(file);\n",
              "    });\n",
              "    // Wait for the data to be ready.\n",
              "    let fileData = yield {\n",
              "      promise: fileDataPromise,\n",
              "      response: {\n",
              "        action: 'continue',\n",
              "      }\n",
              "    };\n",
              "\n",
              "    // Use a chunked sending to avoid message size limits. See b/62115660.\n",
              "    let position = 0;\n",
              "    do {\n",
              "      const length = Math.min(fileData.byteLength - position, MAX_PAYLOAD_SIZE);\n",
              "      const chunk = new Uint8Array(fileData, position, length);\n",
              "      position += length;\n",
              "\n",
              "      const base64 = btoa(String.fromCharCode.apply(null, chunk));\n",
              "      yield {\n",
              "        response: {\n",
              "          action: 'append',\n",
              "          file: file.name,\n",
              "          data: base64,\n",
              "        },\n",
              "      };\n",
              "\n",
              "      let percentDone = fileData.byteLength === 0 ?\n",
              "          100 :\n",
              "          Math.round((position / fileData.byteLength) * 100);\n",
              "      percent.textContent = `${percentDone}% done`;\n",
              "\n",
              "    } while (position < fileData.byteLength);\n",
              "  }\n",
              "\n",
              "  // All done.\n",
              "  yield {\n",
              "    response: {\n",
              "      action: 'complete',\n",
              "    }\n",
              "  };\n",
              "}\n",
              "\n",
              "scope.google = scope.google || {};\n",
              "scope.google.colab = scope.google.colab || {};\n",
              "scope.google.colab._files = {\n",
              "  _uploadFiles,\n",
              "  _uploadFilesContinue,\n",
              "};\n",
              "})(self);\n",
              "</script> "
            ]
          },
          "metadata": {}
        },
        {
          "output_type": "stream",
          "name": "stdout",
          "text": [
            "Saving k-core.graphml to k-core.graphml\n",
            "User uploaded file \"k-core.graphml\" with length 3948600 bytes\n"
          ]
        }
      ]
    },
    {
      "source": [
        "import networkx as nx\n",
        "\n",
        "# Carregar o grafo do arquivo GraphML\n",
        "grafo = nx.read_graphml('k-core.graphml')\n",
        "\n",
        "# Remover self-loops antes de calcular o k-core\n",
        "grafo.remove_edges_from(nx.selfloop_edges(grafo))\n",
        "\n",
        "# Calcular o k-core\n",
        "k_core_subgraph = nx.k_core(grafo, k=18)\n",
        "\n",
        "# Obter o tamanho do k-core\n",
        "num_nodes = k_core_subgraph.number_of_nodes()\n",
        "num_edges = k_core_subgraph.number_of_edges()\n",
        "total_size = num_nodes + num_edges\n",
        "\n",
        "# Exibir o tamanho do k-core\n",
        "print(f\"O k-core tem {num_nodes} nós.\")\n",
        "print(f\"O k-core tem {num_edges} arestas.\")\n",
        "print(f\"O tamanho total do k-core é {total_size}.\")"
      ],
      "cell_type": "code",
      "metadata": {
        "colab": {
          "base_uri": "https://localhost:8080/"
        },
        "id": "jk3gqT8s2iVI",
        "outputId": "4574070b-b1c4-4842-f73e-0294434027bd"
      },
      "execution_count": 16,
      "outputs": [
        {
          "output_type": "stream",
          "name": "stdout",
          "text": [
            "O k-core tem 45 nós.\n",
            "O k-core tem 601 arestas.\n",
            "O tamanho total do k-core é 646.\n"
          ]
        }
      ]
    },
    {
      "source": [
        "import networkx as nx\n",
        "\n",
        "# Carregar o grafo do arquivo GraphML\n",
        "grafo = nx.read_graphml('k-core.graphml')\n",
        "\n",
        "# Remover self-loops antes de calcular o k-core/k-shell\n",
        "grafo.remove_edges_from(nx.selfloop_edges(grafo))\n",
        "\n",
        "# Calcular o k-shell (substitua 2 pelo valor de k desejado)\n",
        "k_shell_subgraph = nx.k_shell(grafo, k=18)\n",
        "\n",
        "# Obter o tamanho do k-shell\n",
        "num_nodes = k_shell_subgraph.number_of_nodes()\n",
        "num_edges = k_shell_subgraph.number_of_edges()\n",
        "total_size = num_nodes + num_edges\n",
        "\n",
        "# Exibir o tamanho do k-shell\n",
        "print(f\"O k-shell tem {num_nodes} nós.\")\n",
        "print(f\"O k-shell tem {num_edges} arestas.\")\n",
        "print(f\"O tamanho total do k-shell é {total_size}.\")"
      ],
      "cell_type": "code",
      "metadata": {
        "colab": {
          "base_uri": "https://localhost:8080/"
        },
        "id": "ryy66l9D3V86",
        "outputId": "f6e8c8e9-7b55-4a60-b949-51de2c690657"
      },
      "execution_count": 26,
      "outputs": [
        {
          "output_type": "stream",
          "name": "stdout",
          "text": [
            "O k-shell tem 45 nós.\n",
            "O k-shell tem 601 arestas.\n",
            "O tamanho total do k-shell é 646.\n"
          ]
        }
      ]
    },
    {
      "cell_type": "code",
      "source": [
        "# Remover self-loops\n",
        "grafo.remove_edges_from(nx.selfloop_edges(grafo))\n"
      ],
      "metadata": {
        "id": "j85Yl2ketHqo"
      },
      "execution_count": 5,
      "outputs": []
    },
    {
      "cell_type": "code",
      "source": [
        "import networkx as nx\n",
        "\n",
        "# Carregar o grafo no formato GraphML\n",
        "grafo = nx.read_graphml(\"k-core.graphml\")\n",
        "\n",
        "# Remover self-loops\n",
        "grafo.remove_edges_from(nx.selfloop_edges(grafo))\n",
        "\n",
        "# Calcular o k-core (retorna um subgrafo)\n",
        "k_core = nx.k_core(grafo)\n",
        "\n",
        "# Determinar os valores de k-shells\n",
        "k_shells = nx.core_number(grafo)\n",
        "\n",
        "# Identificar o maior k-core (k-core máximo)\n",
        "max_k = max(k_shells.values())\n",
        "\n",
        "print(f\"K-core máximo: {max_k}\")\n",
        "\n",
        "# Separar nós por cada k-shell\n",
        "for k in range(1, max_k + 1):\n",
        "    shell = [n for n, core_value in k_shells.items() if core_value == k]\n",
        "    print(f\"K-shell {k}: {len(shell)} nós\")\n",
        "\n",
        "# Salvar o k-core máximo para análise\n",
        "max_k_core = nx.k_core(grafo, k=max_k)\n",
        "nx.write_graphml(max_k_core, \"max_k_core.graphml\")\n",
        "print(\"K-core máximo salvo como 'max_k_core.graphml'.\")\n"
      ],
      "metadata": {
        "colab": {
          "base_uri": "https://localhost:8080/"
        },
        "id": "bQ6GaeRhsSNL",
        "outputId": "e26d6868-5f58-4795-ef8f-ccf4893f56f6"
      },
      "execution_count": 7,
      "outputs": [
        {
          "output_type": "stream",
          "name": "stdout",
          "text": [
            "K-core máximo: 18\n",
            "K-shell 1: 2 nós\n",
            "K-shell 2: 15 nós\n",
            "K-shell 3: 32 nós\n",
            "K-shell 4: 49 nós\n",
            "K-shell 5: 67 nós\n",
            "K-shell 6: 109 nós\n",
            "K-shell 7: 110 nós\n",
            "K-shell 8: 120 nós\n",
            "K-shell 9: 104 nós\n",
            "K-shell 10: 123 nós\n",
            "K-shell 11: 154 nós\n",
            "K-shell 12: 118 nós\n",
            "K-shell 13: 69 nós\n",
            "K-shell 14: 60 nós\n",
            "K-shell 15: 54 nós\n",
            "K-shell 16: 60 nós\n",
            "K-shell 17: 71 nós\n",
            "K-shell 18: 45 nós\n",
            "K-core máximo salvo como 'max_k_core.graphml'.\n"
          ]
        }
      ]
    },
    {
      "cell_type": "code",
      "source": [
        "import networkx as nx\n",
        "\n",
        "# Carregar o grafo no formato GraphML\n",
        "grafo = nx.read_graphml(\"k-core.graphml\")\n",
        "\n",
        "# Remover self-loops\n",
        "grafo.remove_edges_from(nx.selfloop_edges(grafo))\n",
        "\n",
        "# Calcular os valores de k-shells\n",
        "k_shells = nx.core_number(grafo)\n",
        "\n",
        "# Adicionar os valores de k-shell como atributo dos nós\n",
        "nx.set_node_attributes(grafo, k_shells, \"k_shell\")\n",
        "\n",
        "# Adicionar um atributo indicando o maior k-core\n",
        "max_k = max(k_shells.values())\n",
        "k_core_nodes = list(nx.k_core(grafo, k=max_k).nodes())\n",
        "for node in grafo.nodes():\n",
        "    grafo.nodes[node][\"in_max_k_core\"] = 1 if node in k_core_nodes else 0\n",
        "\n",
        "# Exportar o grafo com os novos atributos\n",
        "nx.write_graphml(grafo, \"grafo_com_k_shell_e_k_core.graphml\")\n",
        "print(\"Grafo exportado como 'grafo_com_k_shell_e_k_core.graphml'\")\n"
      ],
      "metadata": {
        "colab": {
          "base_uri": "https://localhost:8080/"
        },
        "id": "viMwlWHcDf_6",
        "outputId": "cf8187ff-0eb0-4eda-e400-525d61a86e34"
      },
      "execution_count": 3,
      "outputs": [
        {
          "output_type": "stream",
          "name": "stdout",
          "text": [
            "Grafo exportado como 'grafo_com_k_shell_e_k_core.graphml'\n"
          ]
        }
      ]
    }
  ]
}